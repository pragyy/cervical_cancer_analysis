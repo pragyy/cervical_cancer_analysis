{
  "nbformat": 4,
  "nbformat_minor": 0,
  "metadata": {
    "colab": {
      "name": "Data_Cleaning.ipynb",
      "provenance": []
    },
    "kernelspec": {
      "name": "python3",
      "display_name": "Python 3"
    }
  },
  "cells": [
    {
      "cell_type": "markdown",
      "metadata": {
        "id": "W_vOC3jFlZ8e"
      },
      "source": [
        "#Data Cleaning"
      ]
    },
    {
      "cell_type": "markdown",
      "metadata": {
        "id": "4Bi_6M4goJEs"
      },
      "source": [
        "In this notebook we are preparing the dataset for the analysis also referrred to as data cleaning. "
      ]
    },
    {
      "cell_type": "markdown",
      "metadata": {
        "id": "Bnh6hRhkfkxd"
      },
      "source": [
        "###Importing Required Packages"
      ]
    },
    {
      "cell_type": "code",
      "metadata": {
        "id": "BcWhZUI0Mu7B"
      },
      "source": [
        "#importing packages\n",
        "import pandas as pd\n",
        "import numpy as np"
      ],
      "execution_count": 1,
      "outputs": []
    },
    {
      "cell_type": "markdown",
      "metadata": {
        "id": "ACmogZcTpbzc"
      },
      "source": [
        "###About the dataset"
      ]
    },
    {
      "cell_type": "markdown",
      "metadata": {
        "id": "vXozgRM1ex58"
      },
      "source": [
        "This dataset focuses on the prediction of indicators/diagnosis of cervical cancer. The features cover demographic information, habits, and historic medical records.\n",
        "\n",
        "\n",
        "The dataset was collected at 'Hospital Universitario de Caracas' in Caracas, Venezuela. The dataset comprises demographic information, habits, and historic medical records of 858 patients. Several patients decided not to answer some of the questions because of privacy concerns (missing values). Hence data cleaning is pertinent.\n",
        "\n",
        "The dataset can be found at this [link](https://archive.ics.uci.edu/ml/datasets/Cervical+cancer+%28Risk+Factors%29#)."
      ]
    },
    {
      "cell_type": "code",
      "metadata": {
        "id": "K6doRowINDg2",
        "outputId": "1aecc36c-a4c7-46a9-effe-66fcb7099793",
        "colab": {
          "base_uri": "https://localhost:8080/",
          "height": 292
        }
      },
      "source": [
        "# loading the datafile\n",
        "df = pd.read_csv('risk_factors_cervical_cancer.csv')\n",
        "df.head()"
      ],
      "execution_count": 2,
      "outputs": [
        {
          "output_type": "execute_result",
          "data": {
            "text/html": [
              "<div>\n",
              "<style scoped>\n",
              "    .dataframe tbody tr th:only-of-type {\n",
              "        vertical-align: middle;\n",
              "    }\n",
              "\n",
              "    .dataframe tbody tr th {\n",
              "        vertical-align: top;\n",
              "    }\n",
              "\n",
              "    .dataframe thead th {\n",
              "        text-align: right;\n",
              "    }\n",
              "</style>\n",
              "<table border=\"1\" class=\"dataframe\">\n",
              "  <thead>\n",
              "    <tr style=\"text-align: right;\">\n",
              "      <th></th>\n",
              "      <th>Age</th>\n",
              "      <th>Number of sexual partners</th>\n",
              "      <th>First sexual intercourse</th>\n",
              "      <th>Num of pregnancies</th>\n",
              "      <th>Smokes</th>\n",
              "      <th>Smokes (years)</th>\n",
              "      <th>Smokes (packs/year)</th>\n",
              "      <th>Hormonal Contraceptives</th>\n",
              "      <th>Hormonal Contraceptives (years)</th>\n",
              "      <th>IUD</th>\n",
              "      <th>IUD (years)</th>\n",
              "      <th>STDs</th>\n",
              "      <th>STDs (number)</th>\n",
              "      <th>STDs:condylomatosis</th>\n",
              "      <th>STDs:cervical condylomatosis</th>\n",
              "      <th>STDs:vaginal condylomatosis</th>\n",
              "      <th>STDs:vulvo-perineal condylomatosis</th>\n",
              "      <th>STDs:syphilis</th>\n",
              "      <th>STDs:pelvic inflammatory disease</th>\n",
              "      <th>STDs:genital herpes</th>\n",
              "      <th>STDs:molluscum contagiosum</th>\n",
              "      <th>STDs:AIDS</th>\n",
              "      <th>STDs:HIV</th>\n",
              "      <th>STDs:Hepatitis B</th>\n",
              "      <th>STDs:HPV</th>\n",
              "      <th>STDs: Number of diagnosis</th>\n",
              "      <th>STDs: Time since first diagnosis</th>\n",
              "      <th>STDs: Time since last diagnosis</th>\n",
              "      <th>Dx:Cancer</th>\n",
              "      <th>Dx:CIN</th>\n",
              "      <th>Dx:HPV</th>\n",
              "      <th>Dx</th>\n",
              "      <th>Hinselmann</th>\n",
              "      <th>Schiller</th>\n",
              "      <th>Citology</th>\n",
              "      <th>Biopsy</th>\n",
              "    </tr>\n",
              "  </thead>\n",
              "  <tbody>\n",
              "    <tr>\n",
              "      <th>0</th>\n",
              "      <td>18</td>\n",
              "      <td>4.0</td>\n",
              "      <td>15.0</td>\n",
              "      <td>1.0</td>\n",
              "      <td>0.0</td>\n",
              "      <td>0.0</td>\n",
              "      <td>0.0</td>\n",
              "      <td>0.0</td>\n",
              "      <td>0.0</td>\n",
              "      <td>0.0</td>\n",
              "      <td>0.0</td>\n",
              "      <td>0.0</td>\n",
              "      <td>0.0</td>\n",
              "      <td>0.0</td>\n",
              "      <td>0.0</td>\n",
              "      <td>0.0</td>\n",
              "      <td>0.0</td>\n",
              "      <td>0.0</td>\n",
              "      <td>0.0</td>\n",
              "      <td>0.0</td>\n",
              "      <td>0.0</td>\n",
              "      <td>0.0</td>\n",
              "      <td>0.0</td>\n",
              "      <td>0.0</td>\n",
              "      <td>0.0</td>\n",
              "      <td>0</td>\n",
              "      <td>?</td>\n",
              "      <td>?</td>\n",
              "      <td>0</td>\n",
              "      <td>0</td>\n",
              "      <td>0</td>\n",
              "      <td>0</td>\n",
              "      <td>0</td>\n",
              "      <td>0</td>\n",
              "      <td>0</td>\n",
              "      <td>0</td>\n",
              "    </tr>\n",
              "    <tr>\n",
              "      <th>1</th>\n",
              "      <td>15</td>\n",
              "      <td>1.0</td>\n",
              "      <td>14.0</td>\n",
              "      <td>1.0</td>\n",
              "      <td>0.0</td>\n",
              "      <td>0.0</td>\n",
              "      <td>0.0</td>\n",
              "      <td>0.0</td>\n",
              "      <td>0.0</td>\n",
              "      <td>0.0</td>\n",
              "      <td>0.0</td>\n",
              "      <td>0.0</td>\n",
              "      <td>0.0</td>\n",
              "      <td>0.0</td>\n",
              "      <td>0.0</td>\n",
              "      <td>0.0</td>\n",
              "      <td>0.0</td>\n",
              "      <td>0.0</td>\n",
              "      <td>0.0</td>\n",
              "      <td>0.0</td>\n",
              "      <td>0.0</td>\n",
              "      <td>0.0</td>\n",
              "      <td>0.0</td>\n",
              "      <td>0.0</td>\n",
              "      <td>0.0</td>\n",
              "      <td>0</td>\n",
              "      <td>?</td>\n",
              "      <td>?</td>\n",
              "      <td>0</td>\n",
              "      <td>0</td>\n",
              "      <td>0</td>\n",
              "      <td>0</td>\n",
              "      <td>0</td>\n",
              "      <td>0</td>\n",
              "      <td>0</td>\n",
              "      <td>0</td>\n",
              "    </tr>\n",
              "    <tr>\n",
              "      <th>2</th>\n",
              "      <td>34</td>\n",
              "      <td>1.0</td>\n",
              "      <td>?</td>\n",
              "      <td>1.0</td>\n",
              "      <td>0.0</td>\n",
              "      <td>0.0</td>\n",
              "      <td>0.0</td>\n",
              "      <td>0.0</td>\n",
              "      <td>0.0</td>\n",
              "      <td>0.0</td>\n",
              "      <td>0.0</td>\n",
              "      <td>0.0</td>\n",
              "      <td>0.0</td>\n",
              "      <td>0.0</td>\n",
              "      <td>0.0</td>\n",
              "      <td>0.0</td>\n",
              "      <td>0.0</td>\n",
              "      <td>0.0</td>\n",
              "      <td>0.0</td>\n",
              "      <td>0.0</td>\n",
              "      <td>0.0</td>\n",
              "      <td>0.0</td>\n",
              "      <td>0.0</td>\n",
              "      <td>0.0</td>\n",
              "      <td>0.0</td>\n",
              "      <td>0</td>\n",
              "      <td>?</td>\n",
              "      <td>?</td>\n",
              "      <td>0</td>\n",
              "      <td>0</td>\n",
              "      <td>0</td>\n",
              "      <td>0</td>\n",
              "      <td>0</td>\n",
              "      <td>0</td>\n",
              "      <td>0</td>\n",
              "      <td>0</td>\n",
              "    </tr>\n",
              "    <tr>\n",
              "      <th>3</th>\n",
              "      <td>52</td>\n",
              "      <td>5.0</td>\n",
              "      <td>16.0</td>\n",
              "      <td>4.0</td>\n",
              "      <td>1.0</td>\n",
              "      <td>37.0</td>\n",
              "      <td>37.0</td>\n",
              "      <td>1.0</td>\n",
              "      <td>3.0</td>\n",
              "      <td>0.0</td>\n",
              "      <td>0.0</td>\n",
              "      <td>0.0</td>\n",
              "      <td>0.0</td>\n",
              "      <td>0.0</td>\n",
              "      <td>0.0</td>\n",
              "      <td>0.0</td>\n",
              "      <td>0.0</td>\n",
              "      <td>0.0</td>\n",
              "      <td>0.0</td>\n",
              "      <td>0.0</td>\n",
              "      <td>0.0</td>\n",
              "      <td>0.0</td>\n",
              "      <td>0.0</td>\n",
              "      <td>0.0</td>\n",
              "      <td>0.0</td>\n",
              "      <td>0</td>\n",
              "      <td>?</td>\n",
              "      <td>?</td>\n",
              "      <td>1</td>\n",
              "      <td>0</td>\n",
              "      <td>1</td>\n",
              "      <td>0</td>\n",
              "      <td>0</td>\n",
              "      <td>0</td>\n",
              "      <td>0</td>\n",
              "      <td>0</td>\n",
              "    </tr>\n",
              "    <tr>\n",
              "      <th>4</th>\n",
              "      <td>46</td>\n",
              "      <td>3.0</td>\n",
              "      <td>21.0</td>\n",
              "      <td>4.0</td>\n",
              "      <td>0.0</td>\n",
              "      <td>0.0</td>\n",
              "      <td>0.0</td>\n",
              "      <td>1.0</td>\n",
              "      <td>15.0</td>\n",
              "      <td>0.0</td>\n",
              "      <td>0.0</td>\n",
              "      <td>0.0</td>\n",
              "      <td>0.0</td>\n",
              "      <td>0.0</td>\n",
              "      <td>0.0</td>\n",
              "      <td>0.0</td>\n",
              "      <td>0.0</td>\n",
              "      <td>0.0</td>\n",
              "      <td>0.0</td>\n",
              "      <td>0.0</td>\n",
              "      <td>0.0</td>\n",
              "      <td>0.0</td>\n",
              "      <td>0.0</td>\n",
              "      <td>0.0</td>\n",
              "      <td>0.0</td>\n",
              "      <td>0</td>\n",
              "      <td>?</td>\n",
              "      <td>?</td>\n",
              "      <td>0</td>\n",
              "      <td>0</td>\n",
              "      <td>0</td>\n",
              "      <td>0</td>\n",
              "      <td>0</td>\n",
              "      <td>0</td>\n",
              "      <td>0</td>\n",
              "      <td>0</td>\n",
              "    </tr>\n",
              "  </tbody>\n",
              "</table>\n",
              "</div>"
            ],
            "text/plain": [
              "   Age Number of sexual partners  ... Citology Biopsy\n",
              "0   18                       4.0  ...        0      0\n",
              "1   15                       1.0  ...        0      0\n",
              "2   34                       1.0  ...        0      0\n",
              "3   52                       5.0  ...        0      0\n",
              "4   46                       3.0  ...        0      0\n",
              "\n",
              "[5 rows x 36 columns]"
            ]
          },
          "metadata": {
            "tags": []
          },
          "execution_count": 2
        }
      ]
    },
    {
      "cell_type": "code",
      "metadata": {
        "id": "T0xIJCgJUQgd",
        "outputId": "859a8672-d52a-4154-f945-91012a36a312",
        "colab": {
          "base_uri": "https://localhost:8080/",
          "height": 238
        }
      },
      "source": [
        "df.columns"
      ],
      "execution_count": 3,
      "outputs": [
        {
          "output_type": "execute_result",
          "data": {
            "text/plain": [
              "Index(['Age', 'Number of sexual partners', 'First sexual intercourse',\n",
              "       'Num of pregnancies', 'Smokes', 'Smokes (years)', 'Smokes (packs/year)',\n",
              "       'Hormonal Contraceptives', 'Hormonal Contraceptives (years)', 'IUD',\n",
              "       'IUD (years)', 'STDs', 'STDs (number)', 'STDs:condylomatosis',\n",
              "       'STDs:cervical condylomatosis', 'STDs:vaginal condylomatosis',\n",
              "       'STDs:vulvo-perineal condylomatosis', 'STDs:syphilis',\n",
              "       'STDs:pelvic inflammatory disease', 'STDs:genital herpes',\n",
              "       'STDs:molluscum contagiosum', 'STDs:AIDS', 'STDs:HIV',\n",
              "       'STDs:Hepatitis B', 'STDs:HPV', 'STDs: Number of diagnosis',\n",
              "       'STDs: Time since first diagnosis', 'STDs: Time since last diagnosis',\n",
              "       'Dx:Cancer', 'Dx:CIN', 'Dx:HPV', 'Dx', 'Hinselmann', 'Schiller',\n",
              "       'Citology', 'Biopsy'],\n",
              "      dtype='object')"
            ]
          },
          "metadata": {
            "tags": []
          },
          "execution_count": 3
        }
      ]
    },
    {
      "cell_type": "code",
      "metadata": {
        "id": "G0EwqMOPU0UI",
        "outputId": "f368c81f-ef64-4f77-87b7-71ab5a1a1b75",
        "colab": {
          "base_uri": "https://localhost:8080/",
          "height": 34
        }
      },
      "source": [
        "# number of rows intially\n",
        "df.shape[0]"
      ],
      "execution_count": 4,
      "outputs": [
        {
          "output_type": "execute_result",
          "data": {
            "text/plain": [
              "858"
            ]
          },
          "metadata": {
            "tags": []
          },
          "execution_count": 4
        }
      ]
    },
    {
      "cell_type": "markdown",
      "metadata": {
        "id": "V6h5d29cfUvT"
      },
      "source": [
        "There are 858 instances and 36 attributes in the dataset."
      ]
    },
    {
      "cell_type": "markdown",
      "metadata": {
        "id": "EevXslx7fvW4"
      },
      "source": [
        "###Preparing the dataset"
      ]
    },
    {
      "cell_type": "markdown",
      "metadata": {
        "id": "MiqXOD1kgi2k"
      },
      "source": [
        "All the empty cells are filled with ***'?'***. So we are replacing ***'?'*** with ***Nan*** so as to make the tasks easy for us to perform."
      ]
    },
    {
      "cell_type": "code",
      "metadata": {
        "id": "KB0jKSRbkLot"
      },
      "source": [
        "df = df.apply(lambda x: x.replace('?', np.nan))"
      ],
      "execution_count": 5,
      "outputs": []
    },
    {
      "cell_type": "markdown",
      "metadata": {
        "id": "xr73b0HZiBZk"
      },
      "source": [
        "Now, we can have a quick look at how many cells are filled. After having a glance at the following values we can see many cells are empty."
      ]
    },
    {
      "cell_type": "code",
      "metadata": {
        "id": "MP1S9K20rEha",
        "outputId": "84705d81-e2a2-4c00-e95a-28316289be02",
        "colab": {
          "base_uri": "https://localhost:8080/",
          "height": 646
        }
      },
      "source": [
        "df.count(axis=0)"
      ],
      "execution_count": 6,
      "outputs": [
        {
          "output_type": "execute_result",
          "data": {
            "text/plain": [
              "Age                                   858\n",
              "Number of sexual partners             832\n",
              "First sexual intercourse              851\n",
              "Num of pregnancies                    802\n",
              "Smokes                                845\n",
              "Smokes (years)                        845\n",
              "Smokes (packs/year)                   845\n",
              "Hormonal Contraceptives               750\n",
              "Hormonal Contraceptives (years)       750\n",
              "IUD                                   741\n",
              "IUD (years)                           741\n",
              "STDs                                  753\n",
              "STDs (number)                         753\n",
              "STDs:condylomatosis                   753\n",
              "STDs:cervical condylomatosis          753\n",
              "STDs:vaginal condylomatosis           753\n",
              "STDs:vulvo-perineal condylomatosis    753\n",
              "STDs:syphilis                         753\n",
              "STDs:pelvic inflammatory disease      753\n",
              "STDs:genital herpes                   753\n",
              "STDs:molluscum contagiosum            753\n",
              "STDs:AIDS                             753\n",
              "STDs:HIV                              753\n",
              "STDs:Hepatitis B                      753\n",
              "STDs:HPV                              753\n",
              "STDs: Number of diagnosis             858\n",
              "STDs: Time since first diagnosis       71\n",
              "STDs: Time since last diagnosis        71\n",
              "Dx:Cancer                             858\n",
              "Dx:CIN                                858\n",
              "Dx:HPV                                858\n",
              "Dx                                    858\n",
              "Hinselmann                            858\n",
              "Schiller                              858\n",
              "Citology                              858\n",
              "Biopsy                                858\n",
              "dtype: int64"
            ]
          },
          "metadata": {
            "tags": []
          },
          "execution_count": 6
        }
      ]
    },
    {
      "cell_type": "markdown",
      "metadata": {
        "id": "fmq9mvs5plV2"
      },
      "source": [
        "###Removing irrelevant rows"
      ]
    },
    {
      "cell_type": "markdown",
      "metadata": {
        "id": "z-DCyiQnjGBz"
      },
      "source": [
        "Since there are many empty cells. So we have counted empty cells in each row and stored in the attribute *'count'* of the dataframe."
      ]
    },
    {
      "cell_type": "code",
      "metadata": {
        "id": "ENCxmZhSuUyq"
      },
      "source": [
        "count = df.count(axis= 1)\n",
        "count = count.to_numpy()\n",
        "count = np.subtract(36, count)\n",
        "df['count'] = count"
      ],
      "execution_count": 7,
      "outputs": []
    },
    {
      "cell_type": "markdown",
      "metadata": {
        "id": "Cp9F0PMRmWGA"
      },
      "source": [
        "Upon inspection of 'count' attribute of the dataframe there are a few rows with more than 15 cells filled with **Nans** making those rows irrelevant. Hence we are going to get rid of those rows."
      ]
    },
    {
      "cell_type": "code",
      "metadata": {
        "id": "3S1vZW6taAr2"
      },
      "source": [
        "df = df[df['count'] < 16]"
      ],
      "execution_count": 8,
      "outputs": []
    },
    {
      "cell_type": "code",
      "metadata": {
        "id": "HAkVG10FbrOC",
        "outputId": "5c7af7b5-f121-4d9b-88ed-46d078ac46ad",
        "colab": {
          "base_uri": "https://localhost:8080/",
          "height": 34
        }
      },
      "source": [
        "# number of rows after removing irrelevant rows.\n",
        "df.shape[0]"
      ],
      "execution_count": 9,
      "outputs": [
        {
          "output_type": "execute_result",
          "data": {
            "text/plain": [
              "753"
            ]
          },
          "metadata": {
            "tags": []
          },
          "execution_count": 9
        }
      ]
    },
    {
      "cell_type": "markdown",
      "metadata": {
        "id": "AHsCxCudxIpU"
      },
      "source": [
        "We are removing the rows with the attribute 'Numer of sexual partners' as this variable is important. So we cannot afford a missing value for this variable and it cannot be filled with some random number. Hence we are getting rid of rows with empty \"No of sexual partners\" variable."
      ]
    },
    {
      "cell_type": "code",
      "metadata": {
        "id": "a7r_ZSFV6Ubq",
        "outputId": "b2b8207e-28a9-49ff-934f-ff0e4dc2858c",
        "colab": {
          "base_uri": "https://localhost:8080/",
          "height": 34
        }
      },
      "source": [
        "df['Number of sexual partners'].isnull().sum()"
      ],
      "execution_count": 10,
      "outputs": [
        {
          "output_type": "execute_result",
          "data": {
            "text/plain": [
              "14"
            ]
          },
          "metadata": {
            "tags": []
          },
          "execution_count": 10
        }
      ]
    },
    {
      "cell_type": "code",
      "metadata": {
        "id": "AX-9j1XVbu3l"
      },
      "source": [
        "df = df[df['Number of sexual partners'].isnull() == False]"
      ],
      "execution_count": 11,
      "outputs": []
    },
    {
      "cell_type": "code",
      "metadata": {
        "id": "P2EyCziRefmU",
        "outputId": "a6063c24-5b72-4ade-96b0-1327108089fc",
        "colab": {
          "base_uri": "https://localhost:8080/",
          "height": 34
        }
      },
      "source": [
        "# number of rows after removing irrelevant rows.\n",
        "df.shape[0]"
      ],
      "execution_count": 12,
      "outputs": [
        {
          "output_type": "execute_result",
          "data": {
            "text/plain": [
              "739"
            ]
          },
          "metadata": {
            "tags": []
          },
          "execution_count": 12
        }
      ]
    },
    {
      "cell_type": "markdown",
      "metadata": {
        "id": "_ET0ISOdnvBs"
      },
      "source": [
        "###Getting rid of irrelevant columns"
      ]
    },
    {
      "cell_type": "markdown",
      "metadata": {
        "id": "2wjhniQtxzZU"
      },
      "source": [
        "Almost all the values in the column \"Number of diagnosis\" and \"Time since first diagnosis\" is emtpy. So it is better to remove these columns"
      ]
    },
    {
      "cell_type": "code",
      "metadata": {
        "id": "WkoFGOi5qvJc"
      },
      "source": [
        "df = df.drop(columns = ['STDs: Number of diagnosis','STDs: Time since first diagnosis','STDs: Time since last diagnosis','count'])"
      ],
      "execution_count": 13,
      "outputs": []
    },
    {
      "cell_type": "code",
      "metadata": {
        "id": "JNzYB9VWA2os",
        "outputId": "b677cbb1-ca04-4be2-a6cf-ca5d679ff3ef",
        "colab": {
          "base_uri": "https://localhost:8080/",
          "height": 204
        }
      },
      "source": [
        "#Attributes left for analysis\n",
        "df.columns"
      ],
      "execution_count": 14,
      "outputs": [
        {
          "output_type": "execute_result",
          "data": {
            "text/plain": [
              "Index(['Age', 'Number of sexual partners', 'First sexual intercourse',\n",
              "       'Num of pregnancies', 'Smokes', 'Smokes (years)', 'Smokes (packs/year)',\n",
              "       'Hormonal Contraceptives', 'Hormonal Contraceptives (years)', 'IUD',\n",
              "       'IUD (years)', 'STDs', 'STDs (number)', 'STDs:condylomatosis',\n",
              "       'STDs:cervical condylomatosis', 'STDs:vaginal condylomatosis',\n",
              "       'STDs:vulvo-perineal condylomatosis', 'STDs:syphilis',\n",
              "       'STDs:pelvic inflammatory disease', 'STDs:genital herpes',\n",
              "       'STDs:molluscum contagiosum', 'STDs:AIDS', 'STDs:HIV',\n",
              "       'STDs:Hepatitis B', 'STDs:HPV', 'Dx:Cancer', 'Dx:CIN', 'Dx:HPV', 'Dx',\n",
              "       'Hinselmann', 'Schiller', 'Citology', 'Biopsy'],\n",
              "      dtype='object')"
            ]
          },
          "metadata": {
            "tags": []
          },
          "execution_count": 14
        }
      ]
    },
    {
      "cell_type": "code",
      "metadata": {
        "id": "cYodAzpHA4mQ",
        "outputId": "23b06f77-d95a-4b55-a565-f4b856c8cc5a",
        "colab": {
          "base_uri": "https://localhost:8080/",
          "height": 595
        }
      },
      "source": [
        "df.count()"
      ],
      "execution_count": 15,
      "outputs": [
        {
          "output_type": "execute_result",
          "data": {
            "text/plain": [
              "Age                                   739\n",
              "Number of sexual partners             739\n",
              "First sexual intercourse              734\n",
              "Num of pregnancies                    694\n",
              "Smokes                                729\n",
              "Smokes (years)                        729\n",
              "Smokes (packs/year)                   729\n",
              "Hormonal Contraceptives               726\n",
              "Hormonal Contraceptives (years)       726\n",
              "IUD                                   723\n",
              "IUD (years)                           723\n",
              "STDs                                  739\n",
              "STDs (number)                         739\n",
              "STDs:condylomatosis                   739\n",
              "STDs:cervical condylomatosis          739\n",
              "STDs:vaginal condylomatosis           739\n",
              "STDs:vulvo-perineal condylomatosis    739\n",
              "STDs:syphilis                         739\n",
              "STDs:pelvic inflammatory disease      739\n",
              "STDs:genital herpes                   739\n",
              "STDs:molluscum contagiosum            739\n",
              "STDs:AIDS                             739\n",
              "STDs:HIV                              739\n",
              "STDs:Hepatitis B                      739\n",
              "STDs:HPV                              739\n",
              "Dx:Cancer                             739\n",
              "Dx:CIN                                739\n",
              "Dx:HPV                                739\n",
              "Dx                                    739\n",
              "Hinselmann                            739\n",
              "Schiller                              739\n",
              "Citology                              739\n",
              "Biopsy                                739\n",
              "dtype: int64"
            ]
          },
          "metadata": {
            "tags": []
          },
          "execution_count": 15
        }
      ]
    },
    {
      "cell_type": "markdown",
      "metadata": {
        "id": "gm6rxLeRkOgm"
      },
      "source": [
        "###Filling missing values\n",
        "\n",
        "After removing irrelevant rows and columns there are still empty cells. So we impute to fill them."
      ]
    },
    {
      "cell_type": "markdown",
      "metadata": {
        "id": "USuAL6DLmDKc"
      },
      "source": [
        "It is safe to assume woman have their first sexual intercourse at the age of 18. So for empty cells for the column *\"First Sexual Intercourse\"* we are filling it with 18."
      ]
    },
    {
      "cell_type": "code",
      "metadata": {
        "id": "34kj4V1DByB3",
        "outputId": "fab05a58-44d1-4f70-9d71-6b4bafc2090f",
        "colab": {
          "base_uri": "https://localhost:8080/",
          "height": 34
        }
      },
      "source": [
        "df['First sexual intercourse'] = df['First sexual intercourse'].apply(lambda x: 18 if pd.isnull(x) else x)\n",
        "df['First sexual intercourse'].isnull().sum()"
      ],
      "execution_count": 16,
      "outputs": [
        {
          "output_type": "execute_result",
          "data": {
            "text/plain": [
              "0"
            ]
          },
          "metadata": {
            "tags": []
          },
          "execution_count": 16
        }
      ]
    },
    {
      "cell_type": "markdown",
      "metadata": {
        "id": "a1XSksINmYry"
      },
      "source": [
        "For missing values for the attribute *'Num of pregnencies'* we are filling it with zero."
      ]
    },
    {
      "cell_type": "code",
      "metadata": {
        "id": "hqy8X_qcDm70",
        "outputId": "3f33c05e-9bec-421c-bc1c-a086856c01a9",
        "colab": {
          "base_uri": "https://localhost:8080/",
          "height": 34
        }
      },
      "source": [
        "df['Num of pregnancies'] = df['Num of pregnancies'].apply(lambda x: 0 if pd.isnull(x) else x )\n",
        "df['Num of pregnancies'].isnull().sum()"
      ],
      "execution_count": 17,
      "outputs": [
        {
          "output_type": "execute_result",
          "data": {
            "text/plain": [
              "0"
            ]
          },
          "metadata": {
            "tags": []
          },
          "execution_count": 17
        }
      ]
    },
    {
      "cell_type": "markdown",
      "metadata": {
        "id": "r2LyyOYEn6C9"
      },
      "source": [
        "For the *'Hormonal contraceptives'* and *'IUD'* we can assume that the patient has not taken such precautions. So we are imputing those cells with zero."
      ]
    },
    {
      "cell_type": "code",
      "metadata": {
        "id": "7yM1EpfWH6hb"
      },
      "source": [
        "df['Hormonal Contraceptives'] = df['Hormonal Contraceptives'].apply(lambda x: 0 if pd.isnull(x) else x)\n",
        "df['Hormonal Contraceptives (years)'] = df['Hormonal Contraceptives (years)'].apply(lambda x: 0 if pd.isnull(x) else x)"
      ],
      "execution_count": 18,
      "outputs": []
    },
    {
      "cell_type": "code",
      "metadata": {
        "id": "Z8pQa1xHZlYa"
      },
      "source": [
        "df['IUD'] = df['IUD'].apply(lambda x: 0 if pd.isnull(x) else x)\n",
        "df['IUD (years)'] = df['IUD (years)'].apply(lambda x: 0 if pd.isnull(x) else x)"
      ],
      "execution_count": 19,
      "outputs": []
    },
    {
      "cell_type": "markdown",
      "metadata": {
        "id": "uy5lPk-toVlX"
      },
      "source": [
        "We can presume that many patients do not want to disclose their smoking habits. So we take mean of the attribute *'Smokes'* to fill the void which computes to 0.14. However, the answer for it is either *Yes* or *No*, so we fill it as *No* i.e., *0*. Accordingly making related attributes to be *zero* too."
      ]
    },
    {
      "cell_type": "code",
      "metadata": {
        "id": "ByBu_psCUYSQ",
        "outputId": "d3da0da0-86c4-44ec-a938-7ea2a4a34c11",
        "colab": {
          "base_uri": "https://localhost:8080/",
          "height": 34
        }
      },
      "source": [
        "smokes_mean = pd.to_numeric(df['Smokes'], errors='coerce').mean()\n",
        "print(smokes_mean)"
      ],
      "execution_count": 24,
      "outputs": [
        {
          "output_type": "stream",
          "text": [
            "0.14343707713125844\n"
          ],
          "name": "stdout"
        }
      ]
    },
    {
      "cell_type": "code",
      "metadata": {
        "id": "MaTRebeAdBSe"
      },
      "source": [
        "df['Smokes'] = df['Smokes'].apply(lambda x: 0 if pd.isnull(x) else x)\n",
        "df['Smokes (years)'] = df['Smokes (years)'].apply(lambda x: 0 if pd.isnull(x) else x)\n",
        "df['Smokes (packs/year)'] = df['Smokes (packs/year)'].apply(lambda x: 0 if pd.isnull(x) else x)"
      ],
      "execution_count": 21,
      "outputs": []
    },
    {
      "cell_type": "markdown",
      "metadata": {
        "id": "QCXUo21VmtLQ"
      },
      "source": [
        "After performing all the manipulations we can see there are no missing values/fields."
      ]
    },
    {
      "cell_type": "code",
      "metadata": {
        "id": "UqXYwN25ZXKS",
        "outputId": "bfaf7e7f-3d44-40b4-a7c7-8715b416692e",
        "colab": {
          "base_uri": "https://localhost:8080/",
          "height": 595
        }
      },
      "source": [
        "df.isnull().sum()"
      ],
      "execution_count": 22,
      "outputs": [
        {
          "output_type": "execute_result",
          "data": {
            "text/plain": [
              "Age                                   0\n",
              "Number of sexual partners             0\n",
              "First sexual intercourse              0\n",
              "Num of pregnancies                    0\n",
              "Smokes                                0\n",
              "Smokes (years)                        0\n",
              "Smokes (packs/year)                   0\n",
              "Hormonal Contraceptives               0\n",
              "Hormonal Contraceptives (years)       0\n",
              "IUD                                   0\n",
              "IUD (years)                           0\n",
              "STDs                                  0\n",
              "STDs (number)                         0\n",
              "STDs:condylomatosis                   0\n",
              "STDs:cervical condylomatosis          0\n",
              "STDs:vaginal condylomatosis           0\n",
              "STDs:vulvo-perineal condylomatosis    0\n",
              "STDs:syphilis                         0\n",
              "STDs:pelvic inflammatory disease      0\n",
              "STDs:genital herpes                   0\n",
              "STDs:molluscum contagiosum            0\n",
              "STDs:AIDS                             0\n",
              "STDs:HIV                              0\n",
              "STDs:Hepatitis B                      0\n",
              "STDs:HPV                              0\n",
              "Dx:Cancer                             0\n",
              "Dx:CIN                                0\n",
              "Dx:HPV                                0\n",
              "Dx                                    0\n",
              "Hinselmann                            0\n",
              "Schiller                              0\n",
              "Citology                              0\n",
              "Biopsy                                0\n",
              "dtype: int64"
            ]
          },
          "metadata": {
            "tags": []
          },
          "execution_count": 22
        }
      ]
    },
    {
      "cell_type": "markdown",
      "metadata": {
        "id": "ndk7HlfTpVF4"
      },
      "source": [
        "###Exporting the dataset to new CSV file\n",
        "\n",
        "After cleaning the dataset we are exporting the dataset to new CSV file for analysis and prediction."
      ]
    },
    {
      "cell_type": "code",
      "metadata": {
        "id": "9n036WOApl5U"
      },
      "source": [
        "df.to_csv('cervical_cancer.csv')"
      ],
      "execution_count": 25,
      "outputs": []
    }
  ]
}